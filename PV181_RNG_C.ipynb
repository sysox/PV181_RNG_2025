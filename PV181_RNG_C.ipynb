{
 "cells": [
  {
   "cell_type": "markdown",
   "id": "8f3487ce-6843-4381-8ae7-ae0bbb3c9c3c",
   "metadata": {},
   "source": [
    "## PV181 RNG (C)\n",
    "\n",
    "This notebook contains code for several tasks treated in this seminar.  \n",
    "All the tasks should be implemented within aisa (or within your laptops with linux OS)."
   ]
  },
  {
   "cell_type": "markdown",
   "id": "2dc2838a",
   "metadata": {},
   "source": [
    "# Task 0: Preparation \n",
    " 1. Connect to faculty server aisa: Use [**putty**](https://www.google.com/search?q=putty&sourceid=chrome&ie=UTF-8) and log into **aisa.fi.muni.cz** - use **xlogin** and secondary faculty password.\n",
    " 2. Write short program that will:\n",
    "     - generate 10 random values \n",
    "     - and print them on console.   \n",
    " 3. Compile and execute."
   ]
  },
  {
   "cell_type": "code",
   "execution_count": null,
   "id": "515c5976",
   "metadata": {},
   "outputs": [],
   "source": []
  },
  {
   "cell_type": "markdown",
   "id": "d9578d32",
   "metadata": {},
   "source": [
    "# Task 1: aisa, random file\n",
    " 1. Use openssl and generate file of 10 random bytes using (see `openssl rand -h` for help).\n",
    " 2. Check content of the file using `hexdump -C`.\n",
    " 3. Use `dd` tool and generate random file of 10MB. Use `dd if=/dev/urandom of=sample.txt bs=?? count=??` and replace ?? appropriately. \n",
    " 4. Measure time of generation in step 4 - use `time dd ...`. "
   ]
  },
  {
   "cell_type": "markdown",
   "id": "01b51450-7c3d-4251-9f6f-8170c00a249d",
   "metadata": {},
   "source": [
    "# Task 2: rand()\n",
    " 1. Generate (and print) 10 random values using `rand()` function seeded with 0.\n",
    " 2. Change the code so it will generate 10MB file of random data. \n",
    " 3. Measure time of generation process in step 2. Is `rand()` faster than `dev/urandom`? "
   ]
  },
  {
   "cell_type": "code",
   "execution_count": 2,
   "id": "a9afe8b6-84d6-48dc-8325-1bf52b6ebd45",
   "metadata": {},
   "outputs": [],
   "source": [
    "#include <stdio.h>\n",
    "#include <stdlib.h>\n",
    "\n",
    "srand();\n",
    "rand();"
   ]
  },
  {
   "cell_type": "markdown",
   "id": "8a45e427-61c1-43d9-8923-9e7414b201d8",
   "metadata": {},
   "source": [
    "# Task 3:  dev/urandom, dev/random \n",
    " 1. Read 10MB bytes from dev/urandom (use `open` and `read` in code below). \n",
    " 2. Use `fopen` and `fread` instead of `open, read`.\n",
    " 3. Which combination is fastest?"
   ]
  },
  {
   "cell_type": "code",
   "execution_count": null,
   "id": "85602322-2bc7-4178-b1d6-ff1455e07f76",
   "metadata": {},
   "outputs": [],
   "source": [
    "#include <stdio.h>\n",
    "#include <stdlib.h>\n",
    "#include <fcntl.h>\n",
    "#include <unistd.h>\n",
    "\n",
    "unsigned char buffer[10];\n",
    "int i;\n",
    "int f = open(\"/dev/urandom\", O_RDONLY);\n",
    "read(??);"
   ]
  },
  {
   "cell_type": "markdown",
   "id": "f7dce54c-ecda-468c-8a06-624c1d43b07d",
   "metadata": {},
   "source": [
    "#### Task 4: entropy, blocking\n",
    " 1. Check the information about the `dev/random` pool, use **proc/sys/kernel/random/...** e.g. `cat /proc/sys/kernel/random/entropy_avail` for available entropy in the pool.  \n",
    " 2. Execute code `blocking.c` (see content below).\n",
    " 3. Execute `blocking.c` with `dev/random` instead of `dev/urandom`.  \n",
    " `dev/random` can block the caller but also\n",
    " <span style=\"color:red\"> it may returns less data than requested!!! </span>"
   ]
  },
  {
   "cell_type": "code",
   "execution_count": null,
   "id": "7a60e648-d830-48b2-a7fa-a998b3365536",
   "metadata": {},
   "outputs": [],
   "source": [
    "#include <stdio.h>\n",
    "#include <stdlib.h>\n",
    "#include <fcntl.h>\n",
    "#include <unistd.h>\n",
    "\n",
    "int main(){\n",
    "\tunsigned char buffer[1000];\n",
    "\tint entropy;\n",
    "\tint f = open(\"/dev/urandom\", O_RDONLY);\n",
    "\tentropy = read(f, buffer, 1000);\n",
    "\t//sleep(1);\n",
    "\tentropy = read(f, buffer, 1000);\n",
    "\tprintf(\"%d\\n\", entropy);\n",
    "\tentropy = read(f, buffer, 1000);\n",
    "\tprintf(\"%d\\n\", entropy);\n",
    "\treturn 0;\n",
    "}"
   ]
  },
  {
   "cell_type": "markdown",
   "id": "1c21bb6b",
   "metadata": {},
   "source": [
    "# Task 5: rand() simplified\n",
    " 1. Verify that `selinger_gnu_random.c` generates the same sequence. Seed the RNG appropriately, compile and execute. \n",
    " 2. Generate array of 40 values and show that based on some `r[i], r[j]` you can predict next value `r[k]` for some appropriate `k`. Equation  `r[i] = r[j] + r[k]` holds $\\pmod {2^{31}}$ and values `i,j,k` can be deduced from part of the `selinger_gnu_random.c` code: \n",
    " ```\n",
    "    for (i=344; i<354; i++) {\n",
    "        r[i] = r[i-31] + r[i-3];\n",
    "        printf(\"%d\\n\", ((unsigned int)r[i]) >> 1);\n",
    "    }\n",
    " ```\n"
   ]
  },
  {
   "cell_type": "code",
   "execution_count": null,
   "id": "1c8508b0",
   "metadata": {},
   "outputs": [],
   "source": []
  }
 ],
 "metadata": {
  "kernelspec": {
   "display_name": "C++11",
   "language": "C++11",
   "name": "xcpp11"
  },
  "language_info": {
   "codemirror_mode": "text/x-c++src",
   "file_extension": ".cpp",
   "mimetype": "text/x-c++src",
   "name": "c++",
   "version": "11"
  }
 },
 "nbformat": 4,
 "nbformat_minor": 5
}
